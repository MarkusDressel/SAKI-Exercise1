{
 "cells": [
  {
   "cell_type": "code",
   "execution_count": 9,
   "metadata": {},
   "outputs": [],
   "source": [
    "from sklearn.pipeline import Pipeline # neccessary for modelling\n",
    "import pandas as pd \n",
    "import re\n",
    "from sklearn.feature_extraction.text import TfidfVectorizer\n",
    "from sklearn.feature_extraction.text import TransformerMixin\n",
    "from sklearn.naive_bayes import MultinomialNB\n",
    "from sklearn.model_selection import GridSearchCV\n",
    "from sklearn.naive_bayes import ComplementNB\n",
    "from sklearn.naive_bayes import GaussianNB\n",
    "import warnings\n",
    "from sklearn.exceptions import UndefinedMetricWarning\n",
    "from sklearn.model_selection import cross_val_predict\n",
    "from sklearn.utils.multiclass import unique_labels\n",
    "from sklearn.metrics import confusion_matrix\n",
    "import numpy as np\n",
    "import matplotlib.pyplot as plt\n",
    "warnings.filterwarnings(\"ignore\", category=UndefinedMetricWarning)\n"
   ]
  },
  {
   "cell_type": "markdown",
   "metadata": {},
   "source": [
    "Loading the data"
   ]
  },
  {
   "cell_type": "code",
   "execution_count": 10,
   "metadata": {},
   "outputs": [],
   "source": [
    "# read sample csv into pandas dataframe \n",
    "# a semiccolon is used as the seperator\n",
    "# the headlines are automatically detected\n",
    "tansactions_df = pd.read_csv(\"Exercise 1 - Transaction Classification - Data Set.csv\", sep= \";\")"
   ]
  },
  {
   "cell_type": "code",
   "execution_count": 27,
   "metadata": {},
   "outputs": [
    {
     "data": {
      "image/png": "[encoded data removed]",
      "text/plain": [
       "<Figure size 576x288 with 1 Axes>"
      ]
     },
     "metadata": {},
     "output_type": "display_data"
    }
   ],
   "source": [
    "group_names = tansactions_df['label'].unique().tolist()\n",
    "counts = tansactions_df['label'].value_counts() \n",
    "plt.figure(figsize=(8,4))\n",
    "explode = [0.01,0.01,0.01,0.01,0.01,0.01]\n",
    "counts.plot(kind='pie', fontsize=14,autopct='%1.1f%%', label = \"\", explode = explode)\n",
    "plt.show()"
   ]
  },
  {
   "cell_type": "code",
   "execution_count": 28,
   "metadata": {},
   "outputs": [
    {
     "name": "stdout",
     "output_type": "stream",
     "text": [
      "['Unnamed: 0', 'Auftragskonto', 'Buchungstag', 'Valutadatum', 'Buchungstext', 'Verwendungszweck', 'Beguenstigter/Zahlungspflichtiger', 'Kontonummer', 'BLZ', 'Betrag', 'Waehrung', 'label']\n"
     ]
    }
   ],
   "source": [
    "## Attributes\n",
    "print(list(tansactions_df.columns.values))"
   ]
  },
  {
   "cell_type": "code",
   "execution_count": 13,
   "metadata": {},
   "outputs": [],
   "source": [
    "# convert pandas series to list for both\n",
    "y = transaction_df['label'].tolist()\n",
    "Verwendungszweck = transaction_df['Verwendungszweck'].tolist()\n",
    "Buchungstext = transaction_df['Buchungstext'].tolist()\n",
    "combinded_text = []\n",
    "for i in range(0,len(Verwendungszweck)):\n",
    "    combinded_text.append(Buchungstext[i] + \" \" + Verwendungszweck[i])"
   ]
  },
  {
   "cell_type": "code",
   "execution_count": 14,
   "metadata": {},
   "outputs": [],
   "source": [
    "def preprocessing(sentences):\n",
    "    sentences_tokenized = []\n",
    "    stopwords =['end', 'to', 'notprovided', 'ref', 'eur']\n",
    "    for sentence in sentences:\n",
    "        sentence = sentence.lower()\n",
    "        sentence = re.sub('[0-9]+', \" \", sentence)\n",
    "        tokens = re.findall(r'\\w+', sentence)\n",
    "        fin_tok = []\n",
    "        for token in tokens:\n",
    "            if len(token) > 1 and token not in stopwords:\n",
    "                fin_tok.append(token)\n",
    "        sentences_tokenized.append(fin_tok)\n",
    "    return sentences_tokenized"
   ]
  },
  {
   "cell_type": "code",
   "execution_count": 15,
   "metadata": {},
   "outputs": [],
   "source": [
    "## Gaussian NB requires a dense matrix but TFIDF Vectorizer creates a sparse matrix\n",
    "class DenseTransformer(TransformerMixin):\n",
    "    def fit(self, X, y=None, **fit_params):\n",
    "        return self\n",
    "\n",
    "    def transform(self, X, y=None, **fit_params):\n",
    "        return X.toarray()"
   ]
  },
  {
   "cell_type": "code",
   "execution_count": 16,
   "metadata": {},
   "outputs": [],
   "source": [
    "Verwendungszweck_transformed = preprocessing(Verwendungszweck)\n",
    "combinded_text_transformed = preprocessing(combinded_text)\n",
    "\n",
    "clf_MultinominalNB = Pipeline([('vect', TfidfVectorizer(analyzer=lambda x: x)), ('clf', MultinomialNB())])\n",
    "clf_ComplementNB = Pipeline([('vect', TfidfVectorizer(analyzer=lambda x: x)), ('clf', ComplementNB())])\n",
    "clf_GaussianNB = Pipeline([('vect', TfidfVectorizer(analyzer=lambda x: x)), ('to_dense', DenseTransformer()),('clf', GaussianNB())])\n",
    "\n",
    "parameters = {'clf__alpha': (10, 2, 1, 1e-2, 1e-3, 1e-4, 1e-5), 'vect__ngram_range': [(1, 1), (1, 2)], 'vect__use_idf': (True, False)}\n",
    "parameters_Gaus = {'vect__ngram_range': [(1, 1), (1, 2)], 'vect__use_idf': (True, False)}"
   ]
  },
  {
   "cell_type": "code",
   "execution_count": 23,
   "metadata": {},
   "outputs": [
    {
     "data": {
      "text/html": [
       "<div>\n",
       "<style scoped>\n",
       "    .dataframe tbody tr th:only-of-type {\n",
       "        vertical-align: middle;\n",
       "    }\n",
       "\n",
       "    .dataframe tbody tr th {\n",
       "        vertical-align: top;\n",
       "    }\n",
       "\n",
       "    .dataframe thead th {\n",
       "        text-align: right;\n",
       "    }\n",
       "</style>\n",
       "<table border=\"1\" class=\"dataframe\">\n",
       "  <thead>\n",
       "    <tr style=\"text-align: right;\">\n",
       "      <th></th>\n",
       "      <th>Model</th>\n",
       "      <th>best Paramters</th>\n",
       "      <th>Accuracy</th>\n",
       "      <th>F1-Score</th>\n",
       "    </tr>\n",
       "  </thead>\n",
       "  <tbody>\n",
       "    <tr>\n",
       "      <th>0</th>\n",
       "      <td>Multinominal_verwendungszweck</td>\n",
       "      <td>0.01</td>\n",
       "      <td>0.877374</td>\n",
       "      <td>0.862369</td>\n",
       "    </tr>\n",
       "    <tr>\n",
       "      <th>1</th>\n",
       "      <td>Multinominal_combined</td>\n",
       "      <td>0.01</td>\n",
       "      <td>0.881508</td>\n",
       "      <td>0.877856</td>\n",
       "    </tr>\n",
       "    <tr>\n",
       "      <th>2</th>\n",
       "      <td>ComplementNB_verwendungszweck</td>\n",
       "      <td>2</td>\n",
       "      <td>0.867423</td>\n",
       "      <td>0.851444</td>\n",
       "    </tr>\n",
       "    <tr>\n",
       "      <th>3</th>\n",
       "      <td>ComplementNB_combined</td>\n",
       "      <td>0.01</td>\n",
       "      <td>0.886203</td>\n",
       "      <td>0.882634</td>\n",
       "    </tr>\n",
       "    <tr>\n",
       "      <th>4</th>\n",
       "      <td>GaussianNB_verwendungszweck</td>\n",
       "      <td>-</td>\n",
       "      <td>0.881508</td>\n",
       "      <td>0.887671</td>\n",
       "    </tr>\n",
       "    <tr>\n",
       "      <th>5</th>\n",
       "      <td>GaussianNB_combined</td>\n",
       "      <td>-</td>\n",
       "      <td>0.881508</td>\n",
       "      <td>0.886975</td>\n",
       "    </tr>\n",
       "  </tbody>\n",
       "</table>\n",
       "</div>"
      ],
      "text/plain": [
       "                           Model best Paramters  Accuracy  F1-Score\n",
       "0  Multinominal_verwendungszweck           0.01  0.877374  0.862369\n",
       "1          Multinominal_combined           0.01  0.881508  0.877856\n",
       "2  ComplementNB_verwendungszweck              2  0.867423  0.851444\n",
       "3          ComplementNB_combined           0.01  0.886203  0.882634\n",
       "4    GaussianNB_verwendungszweck              -  0.881508  0.887671\n",
       "5            GaussianNB_combined              -  0.881508  0.886975"
      ]
     },
     "execution_count": 23,
     "metadata": {},
     "output_type": "execute_result"
    }
   ],
   "source": [
    "all_models = [('Multinominal',clf_MultinominalNB, parameters), ('ComplementNB', clf_ComplementNB, parameters), ('GaussianNB', clf_GaussianNB, parameters_Gaus)]\n",
    "features = [('verwendungszweck', Verwendungszweck_transformed), ('combined', combinded_text_transformed)]\n",
    "scoring = ['accuracy', 'f1_macro']\n",
    "trained_models = [(str(name) + \"_\" + str(feature), GridSearchCV(model, parameter, cv=3, iid=False, scoring=scoring, refit='accuracy').fit(X, y)) for name, model, parameter in all_models for feature, X in features]\n",
    "trained_models_results = []\n",
    "\n",
    "for row in trained_models:\n",
    "    for i in range(len(row[1].cv_results_['mean_test_accuracy'])):\n",
    "        if row[1].cv_results_['rank_test_accuracy'][i] == 1:\n",
    "            f1 = row[1].cv_results_['mean_test_f1_macro'][i]\n",
    "            acc = row[1].cv_results_['mean_test_accuracy'][i]\n",
    "    if str(row[0])[0:10] == \"GaussianNB\":\n",
    "        trained_models_results.append([row[0], \"-\", acc, f1])\n",
    "    else:\n",
    "        trained_models_results.append([row[0], row[1].best_params_['clf__alpha'],acc, f1])\n",
    "summary_df = pd.DataFrame(trained_models_results)\n",
    "summary_df.columns = ['Model', 'best Paramters', 'Accuracy', 'F1-Score']\n",
    "summary_df"
   ]
  },
  {
   "cell_type": "code",
   "execution_count": 25,
   "metadata": {},
   "outputs": [],
   "source": [
    "def plot_confusion_matrix(y_true, y_pred, classes,cmap=plt.cm.Blues):\n",
    "    title = 'Normalized confusion matrix'   \n",
    "    # Compute confusion matrix\n",
    "    cm = confusion_matrix(y_true, y_pred)\n",
    "    cm = cm.astype('float') / cm.sum(axis=1)[:, np.newaxis]\n",
    "\n",
    "    fig, ax = plt.subplots()\n",
    "    im = ax.imshow(cm, interpolation='nearest', cmap=cmap)\n",
    "    ax.figure.colorbar(im, ax=ax)\n",
    "    ax.set(xticks=np.arange(cm.shape[1]),\n",
    "           yticks=np.arange(cm.shape[0]),\n",
    "           xticklabels=classes, yticklabels=classes,\n",
    "           title=title,\n",
    "           ylabel='True label',\n",
    "           xlabel='Predicted label')\n",
    "\n",
    "    # Rotate the tick labels and set their alignment.\n",
    "    plt.setp(ax.get_xticklabels(), rotation=45, ha=\"right\",\n",
    "             rotation_mode=\"anchor\")\n",
    "\n",
    "    # Loop over data dimensions and create text annotations.\n",
    "    fmt = '.2f'\n",
    "    thresh = cm.max() / 2.\n",
    "    for i in range(cm.shape[0]):\n",
    "        for j in range(cm.shape[1]):\n",
    "            ax.text(j, i, format(cm[i, j], fmt),\n",
    "                    ha=\"center\", va=\"center\",\n",
    "                    color=\"white\" if cm[i, j] > thresh else \"black\")\n",
    "    fig.tight_layout()\n",
    "    return ax"
   ]
  },
  {
   "cell_type": "code",
   "execution_count": 26,
   "metadata": {},
   "outputs": [
    {
     "data": {
      "image/png": "[encoded data removed]",
      "text/plain": [
       "<Figure size 432x288 with 2 Axes>"
      ]
     },
     "metadata": {
      "needs_background": "light"
     },
     "output_type": "display_data"
    }
   ],
   "source": [
    "clf_ComplementNB = Pipeline([('vect', TfidfVectorizer(analyzer=lambda x: x,use_idf = True)), ('clf', ComplementNB(alpha = 0.01))])\n",
    "y_pred = y_pred = cross_val_predict(clf_ComplementNB, combinded_text_transformed, y, cv=3)\n",
    "# print(y_pred)\n",
    "# print(np.mean(y_pred==y))\n",
    "\n",
    "# Plot normalized confusion matrix\n",
    "plot_confusion_matrix(y, y_pred, classes=transaction_df['label'].unique())\n",
    "\n",
    "plt.show()\n"
   ]
  }
 ],
 "metadata": {
  "kernelspec": {
   "display_name": "Python 3",
   "language": "python",
   "name": "python3"
  },
  "language_info": {
   "codemirror_mode": {
    "name": "ipython",
    "version": 3
   },
   "file_extension": ".py",
   "mimetype": "text/x-python",
   "name": "python",
   "nbconvert_exporter": "python",
   "pygments_lexer": "ipython3",
   "version": "3.7.1"
  }
 },
 "nbformat": 4,
 "nbformat_minor": 2
}
