{
 "cells": [
  {
   "cell_type": "code",
   "execution_count": 1,
   "metadata": {},
   "outputs": [],
   "source": [
    "from sklearn.pipeline import Pipeline\n",
    "import pandas as pd \n",
    "import re\n",
    "from sklearn.feature_extraction.text import TfidfVectorizer, TransformerMixin\n",
    "from sklearn.naive_bayes import MultinomialNB, ComplementNB, GaussianNB\n",
    "from sklearn.model_selection import GridSearchCV, cross_val_predict\n",
    "from sklearn.metrics import confusion_matrix\n",
    "import numpy as np\n",
    "import matplotlib.pyplot as plt\n",
    "import warnings\n",
    "from sklearn.exceptions import UndefinedMetricWarning\n",
    "warnings.filterwarnings(\"ignore\", category=UndefinedMetricWarning)"
   ]
  },
  {
   "cell_type": "markdown",
   "metadata": {},
   "source": [
    "## Preprocessing"
   ]
  },
  {
   "cell_type": "code",
   "execution_count": 2,
   "metadata": {},
   "outputs": [],
   "source": [
    "# expects a list of string\n",
    "# return a list of tokenized words where numbers and stop words are removed-\n",
    "def preprocessing(sentences):\n",
    "    sentences_tokenized = []\n",
    "    stopwords =['end', 'to', 'notprovided', 'ref', 'eur']\n",
    "    for sentence in sentences:\n",
    "        sentence = sentence.lower()\n",
    "        sentence = re.sub('[0-9]+', \" \", sentence)\n",
    "        tokens = re.findall(r'\\w+', sentence)\n",
    "        fin_tok = []\n",
    "        for token in tokens:\n",
    "            if len(token) > 1 and token not in stopwords:\n",
    "                fin_tok.append(token)\n",
    "        sentences_tokenized.append(fin_tok)\n",
    "    return sentences_tokenized"
   ]
  },
  {
   "cell_type": "code",
   "execution_count": 3,
   "metadata": {},
   "outputs": [],
   "source": [
    "# load data from csv into pandas dataFrame and convert them to list\n",
    "transaction_df = pd.read_csv(\"Exercise 1 - Transaction Classification - Data Set.csv\", sep=\";\")\n",
    "y = transaction_df['label'].tolist()\n",
    "Verwendungszweck = transaction_df['Verwendungszweck'].tolist()\n",
    "Buchungstext = transaction_df['Buchungstext'].tolist()\n",
    "\n",
    "# concat Buchungstext und Verwendungszweck\n",
    "combinded_text = [Buchungstext[i] + \" \" + Verwendungszweck[i] for i in range(0,len(Verwendungszweck))]\n",
    "\n",
    "# preprocess both feature sets\n",
    "Verwendungszweck_transformed = preprocessing(Verwendungszweck)\n",
    "combinded_text_transformed = preprocessing(combinded_text)"
   ]
  },
  {
   "cell_type": "markdown",
   "metadata": {},
   "source": [
    "## Vectorizing and Modelling"
   ]
  },
  {
   "cell_type": "code",
   "execution_count": 4,
   "metadata": {},
   "outputs": [],
   "source": [
    "class DenseTransformer(TransformerMixin):\n",
    "    def fit(self, X, y=None, **fit_params):\n",
    "        return self\n",
    "\n",
    "    def transform(self, X, y=None, **fit_params):\n",
    "        return X.toarray()"
   ]
  },
  {
   "cell_type": "code",
   "execution_count": 5,
   "metadata": {},
   "outputs": [],
   "source": [
    "# create pipelines\n",
    "clf_MultinominalNB = Pipeline([('vect', TfidfVectorizer(analyzer=lambda x: x)), ('clf', MultinomialNB())])\n",
    "clf_ComplementNB = Pipeline([('vect', TfidfVectorizer(analyzer=lambda x: x)), ('clf', ComplementNB())])\n",
    "clf_GaussianNB = Pipeline([('vect', TfidfVectorizer(analyzer=lambda x: x)), ('to_dense', DenseTransformer()),\n",
    "                           ('clf', GaussianNB())])"
   ]
  },
  {
   "cell_type": "markdown",
   "metadata": {},
   "source": [
    "## Hyperparamter Tuning and K-fold Cross Validation"
   ]
  },
  {
   "cell_type": "code",
   "execution_count": 6,
   "metadata": {},
   "outputs": [],
   "source": [
    "#set up paramters \n",
    "parameters = {'clf__alpha': (10, 2, 1, 1e-2, 1e-3, 1e-4, 1e-5), \n",
    "              'vect__ngram_range': [(1, 1), (1, 2)], \n",
    "              'vect__use_idf': (True, False)}\n",
    "\n",
    "parameters_Gaus = {'vect__ngram_range': [(1, 1), (1, 2)], \n",
    "                   'vect__use_idf': (True, False)}\n",
    "\n",
    "all_models = [('Multinominal',clf_MultinominalNB, parameters), \n",
    "              ('ComplementNB', clf_ComplementNB, parameters), \n",
    "              ('GaussianNB', clf_GaussianNB, parameters_Gaus)]\n",
    "\n",
    "features = [('verwendungszweck', Verwendungszweck_transformed), \n",
    "            ('combined', combinded_text_transformed)]\n",
    "\n",
    "scoring = ['accuracy', 'f1_macro']"
   ]
  },
  {
   "cell_type": "code",
   "execution_count": 7,
   "metadata": {},
   "outputs": [],
   "source": [
    "# perform kfold corss validation\n",
    "trained_models = [(str(name) + \"_\" + str(feature), GridSearchCV(model, parameter, \n",
    "                   cv=5, iid=False, scoring=scoring, refit='accuracy').fit(X, y)) \n",
    "                   for name, model, parameter in all_models \n",
    "                   for feature, X in features]"
   ]
  },
  {
   "cell_type": "code",
   "execution_count": 8,
   "metadata": {},
   "outputs": [],
   "source": [
    "trained_models_results = []\n",
    "for row in trained_models:\n",
    "    for i in range(len(row[1].cv_results_['mean_test_accuracy'])):\n",
    "        if row[1].cv_results_['rank_test_accuracy'][i] == 1:\n",
    "            f1 = row[1].cv_results_['mean_test_f1_macro'][i]\n",
    "            acc = row[1].cv_results_['mean_test_accuracy'][i]\n",
    "    if str(row[0])[0:10] == \"GaussianNB\":\n",
    "        trained_models_results.append([row[0], \"-\", acc, f1])\n",
    "    else:\n",
    "        trained_models_results.append([row[0], row[1].best_params_['clf__alpha'],acc, f1])"
   ]
  },
  {
   "cell_type": "code",
   "execution_count": 9,
   "metadata": {},
   "outputs": [
    {
     "data": {
      "text/html": [
       "<div>\n",
       "<style scoped>\n",
       "    .dataframe tbody tr th:only-of-type {\n",
       "        vertical-align: middle;\n",
       "    }\n",
       "\n",
       "    .dataframe tbody tr th {\n",
       "        vertical-align: top;\n",
       "    }\n",
       "\n",
       "    .dataframe thead th {\n",
       "        text-align: right;\n",
       "    }\n",
       "</style>\n",
       "<table border=\"1\" class=\"dataframe\">\n",
       "  <thead>\n",
       "    <tr style=\"text-align: right;\">\n",
       "      <th></th>\n",
       "      <th>Model</th>\n",
       "      <th>best Paramters</th>\n",
       "      <th>Accuracy</th>\n",
       "      <th>F1-Score</th>\n",
       "    </tr>\n",
       "  </thead>\n",
       "  <tbody>\n",
       "    <tr>\n",
       "      <th>0</th>\n",
       "      <td>Multinominal_verwendungszweck</td>\n",
       "      <td>0.01</td>\n",
       "      <td>0.884132</td>\n",
       "      <td>0.852223</td>\n",
       "    </tr>\n",
       "    <tr>\n",
       "      <th>1</th>\n",
       "      <td>Multinominal_combined</td>\n",
       "      <td>0.01</td>\n",
       "      <td>0.893661</td>\n",
       "      <td>0.881755</td>\n",
       "    </tr>\n",
       "    <tr>\n",
       "      <th>2</th>\n",
       "      <td>ComplementNB_verwendungszweck</td>\n",
       "      <td>2</td>\n",
       "      <td>0.879010</td>\n",
       "      <td>0.847454</td>\n",
       "    </tr>\n",
       "    <tr>\n",
       "      <th>3</th>\n",
       "      <td>ComplementNB_combined</td>\n",
       "      <td>0.01</td>\n",
       "      <td>0.898539</td>\n",
       "      <td>0.887860</td>\n",
       "    </tr>\n",
       "    <tr>\n",
       "      <th>4</th>\n",
       "      <td>GaussianNB_verwendungszweck</td>\n",
       "      <td>-</td>\n",
       "      <td>0.893868</td>\n",
       "      <td>0.895313</td>\n",
       "    </tr>\n",
       "    <tr>\n",
       "      <th>5</th>\n",
       "      <td>GaussianNB_combined</td>\n",
       "      <td>-</td>\n",
       "      <td>0.898746</td>\n",
       "      <td>0.902269</td>\n",
       "    </tr>\n",
       "  </tbody>\n",
       "</table>\n",
       "</div>"
      ],
      "text/plain": [
       "                           Model best Paramters  Accuracy  F1-Score\n",
       "0  Multinominal_verwendungszweck           0.01  0.884132  0.852223\n",
       "1          Multinominal_combined           0.01  0.893661  0.881755\n",
       "2  ComplementNB_verwendungszweck              2  0.879010  0.847454\n",
       "3          ComplementNB_combined           0.01  0.898539  0.887860\n",
       "4    GaussianNB_verwendungszweck              -  0.893868  0.895313\n",
       "5            GaussianNB_combined              -  0.898746  0.902269"
      ]
     },
     "execution_count": 9,
     "metadata": {},
     "output_type": "execute_result"
    }
   ],
   "source": [
    "summary_df = pd.DataFrame(trained_models_results)\n",
    "summary_df.columns = ['Model', 'best Paramters', 'Accuracy', 'F1-Score']\n",
    "# summary_df.to_excel(\"models.xlsx\")\n",
    "summary_df"
   ]
  },
  {
   "cell_type": "markdown",
   "metadata": {},
   "source": [
    "## Evaluation"
   ]
  },
  {
   "cell_type": "code",
   "execution_count": 10,
   "metadata": {},
   "outputs": [],
   "source": [
    "def plot_confusion_matrix(y_true, y_pred, classes,cmap=plt.cm.Blues):  \n",
    "    title = 'Normalized confusion matrix'\n",
    "    # Compute confusion matrix\n",
    "    cm = confusion_matrix(y_true, y_pred)\n",
    "    cm = cm.astype('float') / cm.sum(axis=1)[:, np.newaxis]\n",
    "\n",
    "    fig, ax = plt.subplots()\n",
    "    im = ax.imshow(cm, interpolation='nearest', cmap=cmap)\n",
    "    ax.figure.colorbar(im, ax=ax)\n",
    "    ax.set(xticks=np.arange(cm.shape[1]),\n",
    "           yticks=np.arange(cm.shape[0]),\n",
    "           xticklabels=classes, yticklabels=classes,\n",
    "           title= title,\n",
    "           ylabel = 'True label',\n",
    "           xlabel = 'Predicted label')\n",
    "    ax.set_xlabel('Predicted label', fontsize = 12)\n",
    "    ax.set_ylabel('True label', fontsize = 12)\n",
    "    ax.set_title(title, fontsize = 14)\n",
    "\n",
    "    # Rotate the tick labels and set their alignment.\n",
    "    plt.setp(ax.get_xticklabels(), rotation=45, ha=\"right\",\n",
    "             rotation_mode=\"anchor\")\n",
    "\n",
    "    # Loop over data dimensions and create text annotations.\n",
    "    fmt = '.2f'\n",
    "    thresh = cm.max() / 2.\n",
    "    for i in range(cm.shape[0]):\n",
    "        for j in range(cm.shape[1]):\n",
    "            ax.text(j, i, format(cm[i, j], fmt),\n",
    "                    ha=\"center\", va=\"center\",\n",
    "                    color=\"white\" if cm[i, j] > thresh else \"black\")\n",
    "    fig.tight_layout()\n",
    "    fig.savefig('cm.png')\n",
    "    return ax"
   ]
  },
  {
   "cell_type": "code",
   "execution_count": 11,
   "metadata": {},
   "outputs": [
    {
     "data": {
      "image/png": "[encoded data removed]",
      "text/plain": [
       "<Figure size 432x288 with 2 Axes>"
      ]
     },
     "metadata": {
      "needs_background": "light"
     },
     "output_type": "display_data"
    }
   ],
   "source": [
    "# Plot normalized confusion matrix\n",
    "y_pred = y_pred = cross_val_predict(clf_ComplementNB, combinded_text_transformed, y, cv=5)\n",
    "plot_confusion_matrix(y, y_pred, classes=transaction_df['label'].unique())\n",
    "plt.show()"
   ]
  }
 ],
 "metadata": {
  "kernelspec": {
   "display_name": "Python 3",
   "language": "python",
   "name": "python3"
  },
  "language_info": {
   "codemirror_mode": {
    "name": "ipython",
    "version": 3
   },
   "file_extension": ".py",
   "mimetype": "text/x-python",
   "name": "python",
   "nbconvert_exporter": "python",
   "pygments_lexer": "ipython3",
   "version": "3.7.1"
  }
 },
 "nbformat": 4,
 "nbformat_minor": 2
}
